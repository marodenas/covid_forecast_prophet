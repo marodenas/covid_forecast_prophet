{
 "cells": [
  {
   "cell_type": "markdown",
   "id": "8bda0a32-1004-4d9b-8d33-e64160009476",
   "metadata": {},
   "source": [
    "## Model theoretical explanation\n",
    "\n",
    "**What is Prophet?**\n",
    "The Prophet model is a popular tool for forecasting time series data, developed by Facebook. It's known for its interpretability and flexibility in handling various time series patterns. It is designed to make forecasting easier and more automatic, particularly for data with trends, seasonality, and holidays.\n",
    "The model supports additive time series forecasting, which includes capturing non-linear trends, seasonal patterns, and holiday effects.\n",
    "\n",
    "**Key Features of Prophet:**\n",
    "\n",
    "At its core, Prophet uses a decomposable additive model to represent the time series data. This means it breaks down the overall trend into several components that are then added together to get the final forecast. These components are:\n",
    "\n",
    "- Trend (g(t)): This captures the long-term underlying direction of the data, such as growth or decline. Prophet supports two main trend models: linear and logistic growth. The logistic model is useful for situations where growth slows or plateaus over time, reaching a carrying capacity.\n",
    "\n",
    "- Seasonality (s(t)): This component accounts for recurring patterns within a specific time period, like daily, weekly, or yearly cycles. Prophet can model different seasonal effects and automatically detect their periodicity from the data.\n",
    "\n",
    "- Holidays (h(t)): This allows you to incorporate the impact of holidays on the data. You can specify the dates and expected effects (positive or negative) of holidays on the forecasts.\n",
    "\n",
    "- Error (e(t)): This captures the remaining unexplained variations in the data after accounting for trend, seasonality, and holidays. It's assumed to be random noise.\n",
    "\n",
    "Therefore, the Prophet model can be mathematically expressed as:\n",
    "\n",
    "$y(t) = g(t) + s(t) + h(t) + e(t)$\n",
    "\n",
    "where:\n",
    "\n",
    "- y(t) is the forecasted value at time t\n",
    "- g(t) is the trend component at time t\n",
    "- s(t) is the seasonality component at time t\n",
    "- h(t) is the holiday effect at time t\n",
    "- e(t) is the error term at time t\n",
    "\n",
    "**Advantages of Prophet:**\n",
    "\n",
    "- Interpretability: The separate components of the model make it easy to understand the factors influencing the forecast.\n",
    "- Seasonality: Prophet excels at handling various seasonal patterns, including weekly, monthly, and yearly cycles.\n",
    "- Holidays: It allows you to explicitly consider the effects of holidays on the forecasts.\n",
    "- Flexibility: The model can be extended to incorporate additional regressors (explanatory variables) if needed.\n",
    "- Uncertainty Intervals: Prophet provides uncertainty intervals around the forecasted values.\n",
    "- Components Visualization: Prophet plots the observed values, forecasted values, and uncertainty intervals.\n"
   ]
  },
  {
   "cell_type": "code",
   "execution_count": 1,
   "id": "d1319400-99c1-492b-b90d-07fe8093dcf5",
   "metadata": {},
   "outputs": [],
   "source": [
    "import numpy as np\n",
    "import pandas as pd\n",
    "import malib.models.split as msp\n",
    "import malib.models.tuning as mt\n",
    "from prophet import Prophet"
   ]
  },
  {
   "cell_type": "code",
   "execution_count": 2,
   "id": "f0fa0dc7-a341-48ba-81ee-0464d94430ea",
   "metadata": {},
   "outputs": [],
   "source": [
    "PATH = \"../../data/processed/df_clean_target_confirmed.csv\"\n",
    "PATH_HP_OPTUNA = \"../../data/processed/hyperparameters/hp_optuna.csv\"\n",
    "PATH_HP_HYPEROPT = \"../../data/processed/hyperparameters/hp_hyperopt.csv\"\n",
    "PATH_HP_PARAM_GRID = \"../../data/processed/hyperparameters/hp_param_grid.csv\""
   ]
  },
  {
   "cell_type": "code",
   "execution_count": 3,
   "id": "05de0e28-dd3b-4397-9d86-c442c8f7acda",
   "metadata": {},
   "outputs": [],
   "source": [
    "### Load Data\n",
    "df = pd.read_csv(PATH)"
   ]
  },
  {
   "cell_type": "markdown",
   "id": "7eff5c63-e83c-486a-ab77-97ee8c148e67",
   "metadata": {},
   "source": [
    "## **Hyperparameter Tuning in Prophet Model**\n",
    "\n",
    "Before training the model, we use cross validation for optimizing hyperparameters. We have created a parameters grid to be optimized across parameter combinations. The cutoffs indicates the breakpoint over your dataset where predictions will be made and evaluated.\n",
    "\n",
    "To select the best combinations, we use performance_metrics, a function of the distance from the cutoff. The statistics computed are mean squared error (MSE), root mean squared error (RMSE), mean absolute error (MAE), mean absolute percent error (MAPE), median absolute percent error (MDAPE)."
   ]
  },
  {
   "cell_type": "markdown",
   "id": "5ddb1b34-ad83-41e6-a328-5f1d87063b69",
   "metadata": {},
   "source": [
    "The performance_metrics utility can be used to compute some useful statistics of the prediction performance (yhat, yhat_lower, and yhat_upper compared to y), as a function of the distance from the cutoff (how far into the future the prediction was). \n",
    "\n",
    "**Statistics computed:**\n",
    "\n",
    "- mean squared error (**MSE**)\n",
    "- root mean squared error (**RMSE**)\n",
    "- mean absolute error (**MAE**)\n",
    "- mean absolute percent error (**MAPE**)\n",
    "- median absolute percent error (**MDAPE**)\n",
    "- coverage of the yhat_lower and yhat_upper estimates.\n",
    "\n",
    "These are computed on a rolling window of the predictions in df_cv after sorting by horizon (ds minus cutoff). By default 10% of the predictions will be included in each window, but this can be changed with the rolling_window argument."
   ]
  },
  {
   "cell_type": "markdown",
   "id": "24879e18-d988-45dc-aaf6-ed5f1c27603f",
   "metadata": {},
   "source": [
    "**Key Hyperparameters:**\n",
    "\n",
    "- **changepoint_prior_scale:** Controls trend flexibility and changepoint frequency. Recommended range: [0.001, 0.5]. A lower value restricts the number of trend changes, favoring smoother trends, while a higher value allows for more frequent changes, capturing more fluctuations in the data.\n",
    "- **seasonality_prior_scale:** Controls seasonality flexibility. Recommended range: [0.01, 10]. Lower values constrain seasonality effects, preventing overfitting, while higher values enable more flexibility in capturing seasonal patterns.\n",
    "- **holidays_prior_scale:** Controls flexibility of holiday effect fitting. Recommended range: [0.01, 10]. Similar to seasonality_prior_scale, lower values provide more regularization, while higher values allow for more pronounced holiday effects.unless overridden in the holidays input.\n",
    "- **seasonality_mode:** Defines seasonality behavior (\"additive\" or \"multiplicative\").\n",
    "\n",
    "**Other Hyperparameters:**\n",
    "\n",
    "- **changepoint_range:** Proportion of history allowed for trend changes. Default: 0.8. Rarely tuned. This parameter determines the portion of historical data used to detect trend changes, with lower values focusing more on recent data.\n",
    "- **growth:** Trend type (\"linear\" or \"logistic\"). Usually not tuned.\n",
    "- **changepoints:** List of dates at which to include potential changepoints. If not specified, potential changepoints are selected automatically.\n",
    "- **n_changepoints:** Number of automatically placed changepoints. Default: 25. Rarely tuned. Increasing this value may capture more intricate trend changes, but may also lead to overfitting.\n",
    "- **yearly_seasonality, weekly_seasonality, daily_seasonality:** Control inclusion of specific seasonalities. Usually not tuned.\n",
    "- **holidays:** DataFrame of specified holidays. (effects tuned with holidays_prior_scale)\n",
    "- **mcmc_samples:** Number of MCMC samples. Primarily impacts parameter uncertainty estimation. Default: 0 (not used).\n",
    "- **interval_width:** Width of uncertainty intervals. Primarily impacts uncertainty estimation. Default: 0.8 (80% prediction interval).\n",
    "- **uncertainty_samples:** Number of samples for uncertainty estimation. Primarily impacts uncertainty estimation variance. Default: 1000.\n",
    "\n",
    "**Tuning Approach:**\n",
    "\n",
    "- Grid search or randomized search can be used to explore various hyperparameter combinations.\n",
    "- Performance on a validation set is used to identify the best configuration.\n",
    "\n",
    "\n",
    "Effective hyperparameter tuning can significantly improve the accuracy and reliability of Prophet forecasts. Understanding the role of each hyperparameter and following recommended tuning practices is crucial for optimal model performance. Adjusting parameters within the specified ranges allows for customization of the model to best fit the characteristics of the dataset while avoiding overfitting or underfitting issues."
   ]
  },
  {
   "cell_type": "markdown",
   "id": "cdcc38f7-773a-46b5-9ae6-29b2ca793b7b",
   "metadata": {},
   "source": [
    "**Cutoffs**\n",
    "\n",
    "The cross_validation function outputs a dataframe containing both true values (y) and out-of-sample forecast values (yhat). These values are provided for each simulated forecast date and for each cutoff date. Essentially, a forecast is generated for every observed point between a cutoff date and the cutoff date plus the horizon. This resulting dataframe can then be utilized to compute error measures comparing yhat against y.\n",
    "\n",
    "- Forecast Horizon (**horizon**): This specifies how far into the future you're forecasting.\n",
    "- Initial Training Period (**initial**): This parameter (optional) sets the size of the initial training period. By default, it's set to three times the horizon.\n",
    "- Spacing Between Cutoff Dates (**period**): This parameter (optional) determines the spacing between cutoff dates. By default, cutoffs are made every half a horizon.\n",
    "\n"
   ]
  },
  {
   "cell_type": "raw",
   "id": "e4587fc2-48b5-471c-add5-385ac5b3151a",
   "metadata": {},
   "source": [
    "## Params to optimize\n",
    "\n",
    "### Optuna version\n",
    "params = {\n",
    "    'n_changepoints': trial.suggest_int('n_changepoints', 20, 100),\n",
    "    'changepoint_range': trial.suggest_float('changepoint_range', 0.7, 0.9),\n",
    "    'seasonality_mode': trial.suggest_categorical('seasonality_mode', ['additive', 'multiplicative']),\n",
    "    'changepoint_prior_scale': trial.suggest_float('changepoint_prior_scale', 0.01, 0.5),\n",
    "    'seasonality_prior_scale': trial.suggest_float('seasonality_prior_scale', 0.01, 10.0),\n",
    "    'holidays_prior_scale': trial.suggest_float('holidays_prior_scale', 0.01, 100.0),\n",
    "    'interval_width': trial.suggest_float('interval_width', 0.8, 0.95)\n",
    "}\n",
    "\n",
    "### Hyperopt version \n",
    "space = {\n",
    "    'n_changepoints': hp.quniform('n_changepoints', 20, 100, 1),  # Genera flotantes que necesitan ser convertidos a enteros\n",
    "    'changepoint_range': hp.uniform('changepoint_range', 0.7, 0.9),  # Corregido para usar la etiqueta correcta\n",
    "    'seasonality_mode': hp.choice('seasonality_mode', ['additive', 'multiplicative']),\n",
    "    'changepoint_prior_scale': hp.uniform('changepoint_prior_scale', 0.01, 0.9),\n",
    "    'seasonality_prior_scale': hp.uniform('seasonality_prior_scale', 0.01, 100.0),\n",
    "    'holidays_prior_scale': hp.uniform('holidays_prior_scale', 0.01, 100.0),\n",
    "    'interval_width': hp.uniform('interval_width', 0.8, 0.95),\n",
    "}"
   ]
  },
  {
   "cell_type": "markdown",
   "id": "b4a4d1fd-7302-48ca-96f5-a8353b9082b4",
   "metadata": {},
   "source": [
    "### Why Use Optuna or Hyperopt?\n",
    "\n",
    "1. **Efficiency**: Both Optuna and Hyperopt utilize advanced optimization techniques such as Bayesian optimization, which is more efficient than traditional grid or random search methods. This means they can find better hyperparameters faster and with fewer evaluations.\n",
    "   \n",
    "2. **Automation**: These tools automate the trial-and-error process of hyperparameter tuning, allowing data scientists and machine learning practitioners to focus on other critical aspects of model development and deployment.\n",
    "\n",
    "3. **Scalability**: They can handle large and complex hyperparameter spaces, making them suitable for sophisticated models with numerous hyperparameters.\n",
    "\n",
    "4. **Advanced Features**: Features like early stopping in Optuna prevent wasting resources on models that do not show promise, and Hyperopt's flexible trial logging and analysis capabilities provide detailed insights into the optimization process.\n",
    "\n",
    "### How Optuna and Hyperopt Improve Forecast Accuracy\n",
    "\n",
    "1. **Optimized Hyperparameters**: By finding the optimal set of hyperparameters, these tools ensure that the model is tuned to capture the underlying patterns in the data more accurately. This leads to more precise forecasts.\n",
    "\n",
    "2. **Reduced Overfitting and Underfitting**: Proper hyperparameter tuning helps in balancing the model complexity, thus reducing the chances of overfitting (model too closely fitted to the training data) and underfitting (model too simple to capture the data patterns).\n",
    "\n",
    "3. **Enhanced Model Robustness**: Models with well-tuned hyperparameters are generally more robust and perform better on unseen data, which is critical for reliable forecasting.\n",
    "\n",
    "4. **Improved Model Performance Metrics**: Automated hyperparameter optimization often leads to significant improvements in key performance metrics such as Root Mean Squared Error (RMSE), Mean Absolute Error (MAE), and Mean Absolute Percentage Error (MAPE), which are essential indicators of forecast accuracy."
   ]
  },
  {
   "cell_type": "code",
   "execution_count": 4,
   "id": "766aa439-8b6c-404a-b466-3f7167c267b3",
   "metadata": {},
   "outputs": [
    {
     "name": "stderr",
     "output_type": "stream",
     "text": [
      "/home/marodenas/miniconda3/envs/ma_ml/lib/python3.10/site-packages/numpy/core/fromnumeric.py:59: FutureWarning: 'DataFrame.swapaxes' is deprecated and will be removed in a future version. Please use 'DataFrame.transpose' instead.\n",
      "  return bound(*args, **kwds)\n"
     ]
    }
   ],
   "source": [
    "## Split into train and test\n",
    "train,test = msp.get_train_test_by_date_ratio(df,[0.8,0.2],'ds')\n"
   ]
  },
  {
   "cell_type": "code",
   "execution_count": 5,
   "id": "553b8d4b-08c6-4e80-870d-bc0f775311fc",
   "metadata": {},
   "outputs": [],
   "source": [
    "# Avoid IOPub date_rate error by disabling verbosity\n",
    "import logging\n",
    "logging.getLogger(\"prophet\").setLevel(logging.ERROR)\n",
    "logging.getLogger(\"cmdstanpy\").disabled=True"
   ]
  },
  {
   "cell_type": "code",
   "execution_count": 6,
   "id": "bdcd85b6-ffeb-4375-9849-90513cdd81e9",
   "metadata": {},
   "outputs": [
    {
     "data": {
      "text/plain": [
       "150"
      ]
     },
     "execution_count": 6,
     "metadata": {},
     "output_type": "execute_result"
    }
   ],
   "source": [
    "msp.get_df_n_days(train)"
   ]
  },
  {
   "cell_type": "code",
   "execution_count": 7,
   "id": "cb4bcc7a-8cce-430b-9968-bb6408f43e67",
   "metadata": {},
   "outputs": [],
   "source": [
    "cutoff = {\n",
    "    'initial': str(round(msp.get_df_n_days(train)/2,0)) + \" days\",\n",
    "    'period': '7 days',\n",
    "    'horizon': '7 days'\n",
    "}"
   ]
  },
  {
   "cell_type": "code",
   "execution_count": null,
   "id": "4ebf5964-6424-4712-a687-022d2cb541de",
   "metadata": {},
   "outputs": [],
   "source": [
    "\n",
    "trials = 2000\n",
    "# results,df_optuna,df_hyperopt = mt.compare_optimizers(train, cutoff,trials)\n"
   ]
  },
  {
   "cell_type": "code",
   "execution_count": null,
   "id": "496a84ad-a0f6-4faf-865e-5a496c942bcc",
   "metadata": {},
   "outputs": [],
   "source": [
    "PATH_HP_OPTUNA = \"../../data/processed/hyperparameters/hp_optuna.csv\"\n",
    "PATH_HP_HYPEROPT = \"../../data/processed/hyperparameters/hp_hyperopt.csv\"\n",
    "PATH_HP_PARAM_GRID = \"../../data/processed/hyperparameters/hp_param_grid.csv\""
   ]
  },
  {
   "cell_type": "code",
   "execution_count": null,
   "id": "6eb5e5b5-f5cf-4e26-9ec9-3cbae486370a",
   "metadata": {},
   "outputs": [],
   "source": [
    "# df_optuna.to_csv(PATH_HP_OPTUNA)"
   ]
  },
  {
   "cell_type": "code",
   "execution_count": null,
   "id": "9f79e5fd-434b-4399-ac00-4a8ae762b70b",
   "metadata": {},
   "outputs": [],
   "source": [
    "# df_hyperopt.to_csv(PATH_HP_HYPEROPT)"
   ]
  },
  {
   "cell_type": "code",
   "execution_count": 7,
   "id": "9283fe76-d54a-4712-aed1-7e3413289fdc",
   "metadata": {},
   "outputs": [],
   "source": [
    "# for column in df_hyperopt.columns:\n",
    "#     if column != 'Unnamed: 0':  # Omitir la columna 'Unnamed: 0'\n",
    "#         globals()[column.upper()] = df_hyperopt.at[0, column]"
   ]
  },
  {
   "cell_type": "code",
   "execution_count": 8,
   "id": "6ea0b3ec-01fb-4ed1-8e82-fa7ec6662cbf",
   "metadata": {},
   "outputs": [],
   "source": [
    "# globals"
   ]
  },
  {
   "cell_type": "code",
   "execution_count": 9,
   "id": "071b58a7-6f97-4895-92c2-bd9add994900",
   "metadata": {},
   "outputs": [],
   "source": [
    "# Hyperparamters grid\n",
    "\n",
    "# params_grid = {  'growth': [\"linear\"], \n",
    "#                 'changepoints': [None], \n",
    "#                 'n_changepoints': [ 25,50,75], \n",
    "#                 'changepoint_range': [0.7,0.8,0.9],\n",
    "#                 'yearly_seasonality': [\"auto\"],\n",
    "#                 'weekly_seasonality': [\"auto\"],\n",
    "#                 'daily_seasonality': [\"auto\"],\n",
    "#                 'holidays': [None],\n",
    "#                 'seasonality_mode': ['multiplicative',\"additive\"],\n",
    "#                 'changepoint_prior_scale': [0.01, 0.05, 0.1, 0.3, 0.4, 0.5,0.6,0.7,0.8,0.9],\n",
    "#                 'seasonality_prior_scale': [0.01, 0.1, 1.0, 3.0, 5.0, 7.0, 8.0, 9.0, 10.0,20,50,80],\n",
    "#                 'holidays_prior_scale': [0.01, 0.1, 1.0, 2.0, 3.0, 5.0, 8.0,9.0, 10.0,30,50,70,90],\n",
    "#                 'mcmc_samples': [0],\n",
    "#                 'interval_width': [ 0.8,0.9],\n",
    "#                 'uncertainty_samples': [0]\n",
    "#               }\n",
    "\n",
    "\n",
    "# bp = mt.all_hyperparameters_tunning(train,params_grid)\n",
    "# bp.to_csv(PATH_HP_PARAM_GRID)"
   ]
  },
  {
   "cell_type": "markdown",
   "id": "829ca2f5-6bc9-4cd5-9df0-90be8a760908",
   "metadata": {},
   "source": [
    "## Model Training"
   ]
  },
  {
   "cell_type": "code",
   "execution_count": 10,
   "id": "a5df50cc-beba-46ca-8191-97210dd07d2d",
   "metadata": {},
   "outputs": [],
   "source": [
    "df_opt = pd.read_csv(PATH_HP_OPTUNA)\n",
    "df_hyp = pd.read_csv(PATH_HP_HYPEROPT)\n",
    "df_pg = pd.read_csv(PATH_HP_PARAM_GRID)"
   ]
  },
  {
   "cell_type": "code",
   "execution_count": 11,
   "id": "0ce77025-088e-4833-9b85-3c4b403c329c",
   "metadata": {},
   "outputs": [
    {
     "data": {
      "text/html": [
       "<div>\n",
       "<style scoped>\n",
       "    .dataframe tbody tr th:only-of-type {\n",
       "        vertical-align: middle;\n",
       "    }\n",
       "\n",
       "    .dataframe tbody tr th {\n",
       "        vertical-align: top;\n",
       "    }\n",
       "\n",
       "    .dataframe thead th {\n",
       "        text-align: right;\n",
       "    }\n",
       "</style>\n",
       "<table border=\"1\" class=\"dataframe\">\n",
       "  <thead>\n",
       "    <tr style=\"text-align: right;\">\n",
       "      <th></th>\n",
       "      <th>Unnamed: 0</th>\n",
       "      <th>n_changepoints</th>\n",
       "      <th>changepoint_range</th>\n",
       "      <th>seasonality_mode</th>\n",
       "      <th>changepoint_prior_scale</th>\n",
       "      <th>seasonality_prior_scale</th>\n",
       "      <th>holidays_prior_scale</th>\n",
       "      <th>interval_width</th>\n",
       "    </tr>\n",
       "  </thead>\n",
       "  <tbody>\n",
       "    <tr>\n",
       "      <th>0</th>\n",
       "      <td>0</td>\n",
       "      <td>82</td>\n",
       "      <td>0.899902</td>\n",
       "      <td>additive</td>\n",
       "      <td>0.440535</td>\n",
       "      <td>8.680976</td>\n",
       "      <td>22.811958</td>\n",
       "      <td>0.836355</td>\n",
       "    </tr>\n",
       "  </tbody>\n",
       "</table>\n",
       "</div>"
      ],
      "text/plain": [
       "   Unnamed: 0  n_changepoints  changepoint_range seasonality_mode  \\\n",
       "0           0              82           0.899902         additive   \n",
       "\n",
       "   changepoint_prior_scale  seasonality_prior_scale  holidays_prior_scale  \\\n",
       "0                 0.440535                 8.680976             22.811958   \n",
       "\n",
       "   interval_width  \n",
       "0        0.836355  "
      ]
     },
     "execution_count": 11,
     "metadata": {},
     "output_type": "execute_result"
    }
   ],
   "source": [
    "df_opt"
   ]
  },
  {
   "cell_type": "code",
   "execution_count": 12,
   "id": "a2f7d07b-485f-4e5f-92b2-57dbdb814bb8",
   "metadata": {},
   "outputs": [
    {
     "data": {
      "text/html": [
       "<div>\n",
       "<style scoped>\n",
       "    .dataframe tbody tr th:only-of-type {\n",
       "        vertical-align: middle;\n",
       "    }\n",
       "\n",
       "    .dataframe tbody tr th {\n",
       "        vertical-align: top;\n",
       "    }\n",
       "\n",
       "    .dataframe thead th {\n",
       "        text-align: right;\n",
       "    }\n",
       "</style>\n",
       "<table border=\"1\" class=\"dataframe\">\n",
       "  <thead>\n",
       "    <tr style=\"text-align: right;\">\n",
       "      <th></th>\n",
       "      <th>Unnamed: 0</th>\n",
       "      <th>changepoint_prior_scale</th>\n",
       "      <th>changepoint_range</th>\n",
       "      <th>holidays_prior_scale</th>\n",
       "      <th>interval_width</th>\n",
       "      <th>n_changepoints</th>\n",
       "      <th>seasonality_mode</th>\n",
       "      <th>seasonality_prior_scale</th>\n",
       "    </tr>\n",
       "  </thead>\n",
       "  <tbody>\n",
       "    <tr>\n",
       "      <th>0</th>\n",
       "      <td>0</td>\n",
       "      <td>0.818557</td>\n",
       "      <td>0.899906</td>\n",
       "      <td>25.885436</td>\n",
       "      <td>0.906268</td>\n",
       "      <td>82.0</td>\n",
       "      <td>additive</td>\n",
       "      <td>11.764977</td>\n",
       "    </tr>\n",
       "  </tbody>\n",
       "</table>\n",
       "</div>"
      ],
      "text/plain": [
       "   Unnamed: 0  changepoint_prior_scale  changepoint_range  \\\n",
       "0           0                 0.818557           0.899906   \n",
       "\n",
       "   holidays_prior_scale  interval_width  n_changepoints seasonality_mode  \\\n",
       "0             25.885436        0.906268            82.0         additive   \n",
       "\n",
       "   seasonality_prior_scale  \n",
       "0                11.764977  "
      ]
     },
     "execution_count": 12,
     "metadata": {},
     "output_type": "execute_result"
    }
   ],
   "source": [
    "df_hyp"
   ]
  },
  {
   "cell_type": "code",
   "execution_count": 27,
   "id": "539ae7d9-c6ba-4419-b6b3-37ad29d8dd5e",
   "metadata": {},
   "outputs": [
    {
     "data": {
      "text/plain": [
       "['growth',\n",
       " 'changepoints',\n",
       " 'n_changepoints',\n",
       " 'changepoint_range',\n",
       " 'yearly_seasonality',\n",
       " 'weekly_seasonality',\n",
       " 'daily_seasonality',\n",
       " 'holidays',\n",
       " 'seasonality_mode',\n",
       " 'changepoint_prior_scale',\n",
       " 'seasonality_prior_scale',\n",
       " 'holidays_prior_scale',\n",
       " 'mcmc_samples',\n",
       " 'interval_width',\n",
       " 'uncertainty_samples']"
      ]
     },
     "execution_count": 27,
     "metadata": {},
     "output_type": "execute_result"
    }
   ],
   "source": [
    "columns"
   ]
  },
  {
   "cell_type": "code",
   "execution_count": 30,
   "id": "b95a5ab2-bef4-4afb-9ef2-91e57b13973a",
   "metadata": {},
   "outputs": [],
   "source": [
    "columns = [ 'growth',\n",
    "                'changepoints', \n",
    "                'n_changepoints', \n",
    "                'changepoint_range',\n",
    "                'yearly_seasonality',\n",
    "                'weekly_seasonality',\n",
    "                'daily_seasonality',\n",
    "                'holidays',\n",
    "                'seasonality_mode',\n",
    "                'changepoint_prior_scale',\n",
    "                'seasonality_prior_scale',\n",
    "                'holidays_prior_scale',\n",
    "                'mcmc_samples',\n",
    "                'interval_width',\n",
    "                'uncertainty_samples'\n",
    "          ]\n",
    "values = list(eval(df_pg['params'][0]))\n",
    "dfpg = pd.DataFrame([values], columns=columns)"
   ]
  },
  {
   "cell_type": "code",
   "execution_count": 32,
   "id": "b226370f-8dc5-4bba-a6ce-693f797f720a",
   "metadata": {},
   "outputs": [],
   "source": [
    "common_columns = dfpg.columns.intersection(df_opt.columns).intersection(df_hyp.columns)\n",
    "df_concat = pd.concat([dfpg[common_columns], df_opt[common_columns], df_hyp[common_columns]], ignore_index=True)"
   ]
  },
  {
   "cell_type": "code",
   "execution_count": 33,
   "id": "af92f739-777c-4938-9c72-0c8587c1cd19",
   "metadata": {},
   "outputs": [
    {
     "data": {
      "text/html": [
       "<div>\n",
       "<style scoped>\n",
       "    .dataframe tbody tr th:only-of-type {\n",
       "        vertical-align: middle;\n",
       "    }\n",
       "\n",
       "    .dataframe tbody tr th {\n",
       "        vertical-align: top;\n",
       "    }\n",
       "\n",
       "    .dataframe thead th {\n",
       "        text-align: right;\n",
       "    }\n",
       "</style>\n",
       "<table border=\"1\" class=\"dataframe\">\n",
       "  <thead>\n",
       "    <tr style=\"text-align: right;\">\n",
       "      <th></th>\n",
       "      <th>n_changepoints</th>\n",
       "      <th>changepoint_range</th>\n",
       "      <th>seasonality_mode</th>\n",
       "      <th>changepoint_prior_scale</th>\n",
       "      <th>seasonality_prior_scale</th>\n",
       "      <th>holidays_prior_scale</th>\n",
       "      <th>interval_width</th>\n",
       "    </tr>\n",
       "  </thead>\n",
       "  <tbody>\n",
       "    <tr>\n",
       "      <th>0</th>\n",
       "      <td>75.0</td>\n",
       "      <td>0.900000</td>\n",
       "      <td>additive</td>\n",
       "      <td>0.300000</td>\n",
       "      <td>10.000000</td>\n",
       "      <td>70.000000</td>\n",
       "      <td>0.900000</td>\n",
       "    </tr>\n",
       "    <tr>\n",
       "      <th>1</th>\n",
       "      <td>82.0</td>\n",
       "      <td>0.899902</td>\n",
       "      <td>additive</td>\n",
       "      <td>0.440535</td>\n",
       "      <td>8.680976</td>\n",
       "      <td>22.811958</td>\n",
       "      <td>0.836355</td>\n",
       "    </tr>\n",
       "    <tr>\n",
       "      <th>2</th>\n",
       "      <td>82.0</td>\n",
       "      <td>0.899906</td>\n",
       "      <td>additive</td>\n",
       "      <td>0.818557</td>\n",
       "      <td>11.764977</td>\n",
       "      <td>25.885436</td>\n",
       "      <td>0.906268</td>\n",
       "    </tr>\n",
       "  </tbody>\n",
       "</table>\n",
       "</div>"
      ],
      "text/plain": [
       "   n_changepoints  changepoint_range seasonality_mode  \\\n",
       "0            75.0           0.900000         additive   \n",
       "1            82.0           0.899902         additive   \n",
       "2            82.0           0.899906         additive   \n",
       "\n",
       "   changepoint_prior_scale  seasonality_prior_scale  holidays_prior_scale  \\\n",
       "0                 0.300000                10.000000             70.000000   \n",
       "1                 0.440535                 8.680976             22.811958   \n",
       "2                 0.818557                11.764977             25.885436   \n",
       "\n",
       "   interval_width  \n",
       "0        0.900000  \n",
       "1        0.836355  \n",
       "2        0.906268  "
      ]
     },
     "execution_count": 33,
     "metadata": {},
     "output_type": "execute_result"
    }
   ],
   "source": [
    "df_concat"
   ]
  },
  {
   "cell_type": "code",
   "execution_count": 8,
   "id": "e4cb2a4d-5f71-43fa-9332-57efb2e6dbc5",
   "metadata": {},
   "outputs": [
    {
     "data": {
      "text/plain": [
       "<prophet.forecaster.Prophet at 0x78a883900550>"
      ]
     },
     "execution_count": 8,
     "metadata": {},
     "output_type": "execute_result"
    }
   ],
   "source": [
    "m = Prophet()\n",
    "# m = Prophet()\n",
    "# m.add_country_holidays(country_name='ES')\n",
    "m.fit(train)"
   ]
  },
  {
   "cell_type": "code",
   "execution_count": 37,
   "id": "6e3f9038-a205-47e5-a85a-e22a286c0e49",
   "metadata": {},
   "outputs": [
    {
     "name": "stdout",
     "output_type": "stream",
     "text": [
      "Model 1 trained successfully\n",
      "Model 2 trained successfully\n",
      "Model 3 trained successfully\n"
     ]
    }
   ],
   "source": [
    "# Iterar sobre las filas del DataFrame y entrenar un modelo para cada conjunto de parámetros\n",
    "models = []\n",
    "for index, row in df_concat.iterrows():\n",
    "    m = Prophet(\n",
    "        n_changepoints=int(row['n_changepoints']),\n",
    "        changepoint_range=row['changepoint_range'],\n",
    "        seasonality_mode=row['seasonality_mode'],\n",
    "        changepoint_prior_scale=row['changepoint_prior_scale'],\n",
    "        seasonality_prior_scale=row['seasonality_prior_scale'],\n",
    "        holidays_prior_scale=row['holidays_prior_scale'],\n",
    "        interval_width=row['interval_width']\n",
    "    )\n",
    "    m.fit(train)\n",
    "    models.append(m)\n",
    "    print(f\"Model {index + 1} trained successfully\")"
   ]
  },
  {
   "cell_type": "code",
   "execution_count": 38,
   "id": "6549b605-2d01-471f-b430-87882c4c0b80",
   "metadata": {},
   "outputs": [
    {
     "data": {
      "text/plain": [
       "[<prophet.forecaster.Prophet at 0x7a9985cb4310>,\n",
       " <prophet.forecaster.Prophet at 0x7a99854b1990>,\n",
       " <prophet.forecaster.Prophet at 0x7a9985499300>]"
      ]
     },
     "execution_count": 38,
     "metadata": {},
     "output_type": "execute_result"
    }
   ],
   "source": [
    "models"
   ]
  },
  {
   "cell_type": "markdown",
   "id": "f9852fe2-6b4e-45b8-9535-fce73d217f6f",
   "metadata": {},
   "source": [
    "## Model Prediction"
   ]
  },
  {
   "cell_type": "code",
   "execution_count": 44,
   "id": "9f6e4573-2092-4ab6-bd4f-edb509920a2f",
   "metadata": {},
   "outputs": [],
   "source": [
    "forecast = []\n",
    "for m in models:\n",
    "    future = m.make_future_dataframe(periods=20)\n",
    "    f = m.predict(future)\n",
    "    f = f[['ds','yhat']].tail(23)\n",
    "    forecast.append(f)"
   ]
  },
  {
   "cell_type": "code",
   "execution_count": 18,
   "id": "6005d2c1-98aa-45fb-b560-10ec76012d31",
   "metadata": {},
   "outputs": [],
   "source": [
    "future = m.make_future_dataframe(periods=20)\n",
    "\n",
    "forecast = m.predict(future)\n",
    "\n",
    "\n",
    "# forecast['forecast'] = np.exp(m.predict(future)['yhat']) - 1  # Inversión del log(y + 1)\n",
    "\n",
    "forecast = [forecast[['ds','yhat']].tail(23)]"
   ]
  },
  {
   "cell_type": "code",
   "execution_count": 19,
   "id": "68fae0ca-e074-4110-be05-b054372f0d6c",
   "metadata": {},
   "outputs": [],
   "source": [
    "def plot_forecasting( test, forecast, xlabel='Time', ylabel='Value', title='Forecasting Comparison'):\n",
    "    \"\"\"\n",
    "    Plot train, test, and forecast values in a graph for comparison.\n",
    "\n",
    "    Args:\n",
    "    train (pd.Series): The training data series.\n",
    "    test (pd.Series): The testing data series.\n",
    "    forecast (pd.Series): The forecasted values series.\n",
    "    xlabel (str): Label for the x-axis (default: 'Time').\n",
    "    ylabel (str): Label for the y-axis (default: 'Value').\n",
    "    title (str): Title for the plot (default: 'Forecasting Comparison').\n",
    "    \"\"\"\n",
    "    plt.figure(figsize=(10, 6))\n",
    "    sns.set_style('whitegrid')\n",
    "\n",
    "    # plt.plot(train, label='Train', color='blue')\n",
    "    plt.plot(test, label='True Value', color='green')\n",
    "    plt.plot(forecast, label='Predict', color='red')\n",
    "\n",
    "\n",
    "    plt.xlabel(xlabel)\n",
    "    plt.ylabel(ylabel)\n",
    "    plt.title(title)\n",
    "    plt.legend()\n",
    "\n",
    "    plt.show()"
   ]
  },
  {
   "cell_type": "code",
   "execution_count": 20,
   "id": "89a199b9-24a5-48b2-9cef-9363326c23d5",
   "metadata": {},
   "outputs": [],
   "source": [
    "import matplotlib.pyplot as plt\n",
    "import seaborn as sns"
   ]
  },
  {
   "cell_type": "code",
   "execution_count": 23,
   "id": "a0ac47c5-f884-4ed4-850d-c3bd6bc3fd70",
   "metadata": {},
   "outputs": [],
   "source": [
    "def mape(y_true, y_pred):\n",
    "    return np.mean(np.abs((y_true - y_pred) / y_true)) * 100\n",
    "\n",
    "def accuracy( y_true, y_pred ):\n",
    "    return 1 - (abs((y_pred - y_true) / y_pred))\n",
    "\n",
    "def rmse (y_true,y_pred):\n",
    "    return np.sqrt(np.mean((y_true - y_pred) ** 2))\n"
   ]
  },
  {
   "cell_type": "code",
   "execution_count": 25,
   "id": "98993c51-3b43-48df-8584-b25e9a058529",
   "metadata": {},
   "outputs": [
    {
     "data": {
      "text/html": [
       "<div>\n",
       "<style scoped>\n",
       "    .dataframe tbody tr th:only-of-type {\n",
       "        vertical-align: middle;\n",
       "    }\n",
       "\n",
       "    .dataframe tbody tr th {\n",
       "        vertical-align: top;\n",
       "    }\n",
       "\n",
       "    .dataframe thead th {\n",
       "        text-align: right;\n",
       "    }\n",
       "</style>\n",
       "<table border=\"1\" class=\"dataframe\">\n",
       "  <thead>\n",
       "    <tr style=\"text-align: right;\">\n",
       "      <th></th>\n",
       "      <th>ds</th>\n",
       "      <th>y</th>\n",
       "      <th>yhat</th>\n",
       "      <th>accuracy</th>\n",
       "      <th>rmse</th>\n",
       "    </tr>\n",
       "  </thead>\n",
       "  <tbody>\n",
       "    <tr>\n",
       "      <th>0</th>\n",
       "      <td>2020-06-20</td>\n",
       "      <td>8805336.0</td>\n",
       "      <td>8.620160e+06</td>\n",
       "      <td>0.978518</td>\n",
       "      <td>185175.9060695879</td>\n",
       "    </tr>\n",
       "    <tr>\n",
       "      <th>1</th>\n",
       "      <td>2020-06-21</td>\n",
       "      <td>8933875.0</td>\n",
       "      <td>8.736822e+06</td>\n",
       "      <td>0.977446</td>\n",
       "      <td>197052.8855649941</td>\n",
       "    </tr>\n",
       "    <tr>\n",
       "      <th>2</th>\n",
       "      <td>2020-06-22</td>\n",
       "      <td>9071733.0</td>\n",
       "      <td>8.849901e+06</td>\n",
       "      <td>0.974934</td>\n",
       "      <td>221831.7430991437</td>\n",
       "    </tr>\n",
       "    <tr>\n",
       "      <th>3</th>\n",
       "      <td>2020-06-23</td>\n",
       "      <td>9237071.0</td>\n",
       "      <td>8.968864e+06</td>\n",
       "      <td>0.970096</td>\n",
       "      <td>268206.8754971959</td>\n",
       "    </tr>\n",
       "    <tr>\n",
       "      <th>4</th>\n",
       "      <td>2020-06-24</td>\n",
       "      <td>9408254.0</td>\n",
       "      <td>9.090422e+06</td>\n",
       "      <td>0.965037</td>\n",
       "      <td>317831.9621104021</td>\n",
       "    </tr>\n",
       "    <tr>\n",
       "      <th>5</th>\n",
       "      <td>2020-06-25</td>\n",
       "      <td>9586141.0</td>\n",
       "      <td>9.214742e+06</td>\n",
       "      <td>0.959695</td>\n",
       "      <td>371398.8070789557</td>\n",
       "    </tr>\n",
       "    <tr>\n",
       "      <th>6</th>\n",
       "      <td>2020-06-26</td>\n",
       "      <td>9777487.0</td>\n",
       "      <td>9.339801e+06</td>\n",
       "      <td>0.953138</td>\n",
       "      <td>437685.6956303157</td>\n",
       "    </tr>\n",
       "    <tr>\n",
       "      <th>7</th>\n",
       "      <td>2020-06-27</td>\n",
       "      <td>9955597.0</td>\n",
       "      <td>9.454706e+06</td>\n",
       "      <td>0.947022</td>\n",
       "      <td>500891.4797442686</td>\n",
       "    </tr>\n",
       "    <tr>\n",
       "      <th>8</th>\n",
       "      <td>2020-06-28</td>\n",
       "      <td>10117227.0</td>\n",
       "      <td>9.571368e+06</td>\n",
       "      <td>0.942970</td>\n",
       "      <td>545859.4592396673</td>\n",
       "    </tr>\n",
       "    <tr>\n",
       "      <th>9</th>\n",
       "      <td>2020-06-29</td>\n",
       "      <td>10275799.0</td>\n",
       "      <td>9.684447e+06</td>\n",
       "      <td>0.938938</td>\n",
       "      <td>591352.3167738225</td>\n",
       "    </tr>\n",
       "    <tr>\n",
       "      <th>10</th>\n",
       "      <td>2020-06-30</td>\n",
       "      <td>10449697.0</td>\n",
       "      <td>9.803410e+06</td>\n",
       "      <td>0.934075</td>\n",
       "      <td>646287.4491718616</td>\n",
       "    </tr>\n",
       "    <tr>\n",
       "      <th>11</th>\n",
       "      <td>2020-07-01</td>\n",
       "      <td>10667386.0</td>\n",
       "      <td>9.924967e+06</td>\n",
       "      <td>0.925197</td>\n",
       "      <td>742418.5357850827</td>\n",
       "    </tr>\n",
       "    <tr>\n",
       "      <th>12</th>\n",
       "      <td>2020-07-02</td>\n",
       "      <td>10875091.0</td>\n",
       "      <td>1.004929e+07</td>\n",
       "      <td>0.917825</td>\n",
       "      <td>825803.3807536270</td>\n",
       "    </tr>\n",
       "    <tr>\n",
       "      <th>13</th>\n",
       "      <td>2020-07-03</td>\n",
       "      <td>11078585.0</td>\n",
       "      <td>1.017435e+07</td>\n",
       "      <td>0.911126</td>\n",
       "      <td>904238.2693049908</td>\n",
       "    </tr>\n",
       "    <tr>\n",
       "      <th>14</th>\n",
       "      <td>2020-07-04</td>\n",
       "      <td>11272152.0</td>\n",
       "      <td>1.028925e+07</td>\n",
       "      <td>0.904473</td>\n",
       "      <td>982901.0534189418</td>\n",
       "    </tr>\n",
       "    <tr>\n",
       "      <th>15</th>\n",
       "      <td>2020-07-05</td>\n",
       "      <td>11454847.0</td>\n",
       "      <td>1.040591e+07</td>\n",
       "      <td>0.899198</td>\n",
       "      <td>1048934.0329143479</td>\n",
       "    </tr>\n",
       "    <tr>\n",
       "      <th>16</th>\n",
       "      <td>2020-07-06</td>\n",
       "      <td>11622190.0</td>\n",
       "      <td>1.051899e+07</td>\n",
       "      <td>0.895123</td>\n",
       "      <td>1103197.8904484846</td>\n",
       "    </tr>\n",
       "    <tr>\n",
       "      <th>17</th>\n",
       "      <td>2020-07-07</td>\n",
       "      <td>11833034.0</td>\n",
       "      <td>1.063795e+07</td>\n",
       "      <td>0.887659</td>\n",
       "      <td>1195079.0228465367</td>\n",
       "    </tr>\n",
       "    <tr>\n",
       "      <th>18</th>\n",
       "      <td>2020-07-08</td>\n",
       "      <td>12044836.0</td>\n",
       "      <td>1.075951e+07</td>\n",
       "      <td>0.880541</td>\n",
       "      <td>1285323.1094597634</td>\n",
       "    </tr>\n",
       "    <tr>\n",
       "      <th>19</th>\n",
       "      <td>2020-07-09</td>\n",
       "      <td>12273063.0</td>\n",
       "      <td>1.088383e+07</td>\n",
       "      <td>0.872358</td>\n",
       "      <td>1389229.9544282854</td>\n",
       "    </tr>\n",
       "  </tbody>\n",
       "</table>\n",
       "</div>"
      ],
      "text/plain": [
       "           ds           y          yhat  accuracy                rmse\n",
       "0  2020-06-20   8805336.0  8.620160e+06  0.978518   185175.9060695879\n",
       "1  2020-06-21   8933875.0  8.736822e+06  0.977446   197052.8855649941\n",
       "2  2020-06-22   9071733.0  8.849901e+06  0.974934   221831.7430991437\n",
       "3  2020-06-23   9237071.0  8.968864e+06  0.970096   268206.8754971959\n",
       "4  2020-06-24   9408254.0  9.090422e+06  0.965037   317831.9621104021\n",
       "5  2020-06-25   9586141.0  9.214742e+06  0.959695   371398.8070789557\n",
       "6  2020-06-26   9777487.0  9.339801e+06  0.953138   437685.6956303157\n",
       "7  2020-06-27   9955597.0  9.454706e+06  0.947022   500891.4797442686\n",
       "8  2020-06-28  10117227.0  9.571368e+06  0.942970   545859.4592396673\n",
       "9  2020-06-29  10275799.0  9.684447e+06  0.938938   591352.3167738225\n",
       "10 2020-06-30  10449697.0  9.803410e+06  0.934075   646287.4491718616\n",
       "11 2020-07-01  10667386.0  9.924967e+06  0.925197   742418.5357850827\n",
       "12 2020-07-02  10875091.0  1.004929e+07  0.917825   825803.3807536270\n",
       "13 2020-07-03  11078585.0  1.017435e+07  0.911126   904238.2693049908\n",
       "14 2020-07-04  11272152.0  1.028925e+07  0.904473   982901.0534189418\n",
       "15 2020-07-05  11454847.0  1.040591e+07  0.899198  1048934.0329143479\n",
       "16 2020-07-06  11622190.0  1.051899e+07  0.895123  1103197.8904484846\n",
       "17 2020-07-07  11833034.0  1.063795e+07  0.887659  1195079.0228465367\n",
       "18 2020-07-08  12044836.0  1.075951e+07  0.880541  1285323.1094597634\n",
       "19 2020-07-09  12273063.0  1.088383e+07  0.872358  1389229.9544282854"
      ]
     },
     "metadata": {},
     "output_type": "display_data"
    },
    {
     "name": "stdout",
     "output_type": "stream",
     "text": [
      "accuracy acum 0.9294245999859446\n"
     ]
    },
    {
     "data": {
      "image/png": "[encoded data removed]",
      "text/plain": [
       "<Figure size 1000x600 with 1 Axes>"
      ]
     },
     "metadata": {},
     "output_type": "display_data"
    }
   ],
   "source": [
    "for f in forecast:\n",
    "    df = test.merge(f,on=\"ds\",how=\"inner\")\n",
    "    df['accuracy'] = df.apply(lambda x: accuracy(x['y'],x['yhat']),axis=1)\n",
    "    display(df) \n",
    "    print(f\"accuracy acum {accuracy(df['y'].sum(),df['yhat'].sum())}\")\n",
    "    plot_forecasting(df[\"y\"],df[\"yhat\"])"
   ]
  },
  {
   "cell_type": "code",
   "execution_count": null,
   "id": "02062372-f7ab-4c29-96af-7f8126799b08",
   "metadata": {},
   "outputs": [],
   "source": []
  }
 ],
 "metadata": {
  "kernelspec": {
   "display_name": "Python [conda env:ma_ml]",
   "language": "python",
   "name": "conda-env-ma_ml-py"
  },
  "language_info": {
   "codemirror_mode": {
    "name": "ipython",
    "version": 3
   },
   "file_extension": ".py",
   "mimetype": "text/x-python",
   "name": "python",
   "nbconvert_exporter": "python",
   "pygments_lexer": "ipython3",
   "version": "3.10.13"
  }
 },
 "nbformat": 4,
 "nbformat_minor": 5
}
