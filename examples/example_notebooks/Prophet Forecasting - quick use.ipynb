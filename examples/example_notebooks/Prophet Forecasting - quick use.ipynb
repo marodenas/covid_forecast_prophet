{
 "cells": [
  {
   "cell_type": "code",
   "execution_count": null,
   "id": "9747060f-ea53-4aba-9f7b-bbfff5dba4bb",
   "metadata": {},
   "outputs": [],
   "source": []
  }
 ],
 "metadata": {
  "kernelspec": {
   "display_name": "Python [conda env:ma_ml]",
   "language": "python",
   "name": "conda-env-ma_ml-py"
  },
  "language_info": {
   "codemirror_mode": {
    "name": "ipython",
    "version": 3
   },
   "file_extension": ".py",
   "mimetype": "text/x-python",
   "name": "python",
   "nbconvert_exporter": "python",
   "pygments_lexer": "ipython3",
   "version": "3.10.13"
  }
 },
 "nbformat": 4,
 "nbformat_minor": 5
}
